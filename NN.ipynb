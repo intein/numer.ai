{
 "cells": [
  {
   "cell_type": "markdown",
   "metadata": {},
   "source": [
    "Перед вами то, с чем я последние два раза участвовал в соревновании на Numer.ai. Numer.ai -- это сайт, куда раз в несколько дней заливают датасет с некими зашифрованными данными с фондового рынка. Что за данные -- никто не знает. Выглядят они как сотня тысяч объектов с 21 характеристикой для каждого. Характеристики нормализованы, для каждого объекта есть прогноз в виде цифры -- 0 или 1. На эти данные слетается стая дата-аналитиков, которые всячески их ковыряют, пытаются найти закономерность и построить предсказания для тестовой выборки. \n",
    "Построенные предсказания заливаются на сайт, где формируется рейтинг. \n",
    "Итак, я решил сделать нейронную сеть и посмотреть, насколько хорошо она сумеет предсказывать поведение фондового рынка. "
   ]
  },
  {
   "cell_type": "code",
   "execution_count": 1,
   "metadata": {
    "collapsed": false
   },
   "outputs": [
    {
     "name": "stderr",
     "output_type": "stream",
     "text": [
      "Using Theano backend.\n"
     ]
    }
   ],
   "source": [
    "#Импортируем всем известные библиотеки для работы с данными и визуализации. \n",
    "import pandas as pd \n",
    "import numpy as np\n",
    "import matplotlib.pyplot as plt\n",
    "#Импортируем то, что нам потребуется, из Keras. Keras представляет собой удобную обертку, позволяющую\n",
    "#в десяти строчках набросать план сети, который потом будет скомпилирован в код для Tensorflow или Theano. \n",
    "from keras.models import Sequential\n",
    "from keras.layers.core import Dense, Dropout, Activation\n",
    "from keras.callbacks import ModelCheckpoint\n",
    "from keras.utils import np_utils\n",
    "from keras.optimizers import RMSprop\n",
    "from keras.layers.normalization import BatchNormalization"
   ]
  },
  {
   "cell_type": "code",
   "execution_count": 2,
   "metadata": {
    "collapsed": false
   },
   "outputs": [],
   "source": [
    "#Теперь загрузим данные в фиде датафрейма Pandas.\n",
    "data = pd.read_csv('numerai_training_data.csv')\n",
    "tournament_data = pd.read_csv('numerai_tournament_data.csv')"
   ]
  },
  {
   "cell_type": "code",
   "execution_count": 3,
   "metadata": {
    "collapsed": false
   },
   "outputs": [
    {
     "data": {
      "text/html": [
       "<div>\n",
       "<table border=\"1\" class=\"dataframe\">\n",
       "  <thead>\n",
       "    <tr style=\"text-align: right;\">\n",
       "      <th></th>\n",
       "      <th>feature1</th>\n",
       "      <th>feature2</th>\n",
       "      <th>feature3</th>\n",
       "      <th>feature4</th>\n",
       "      <th>feature5</th>\n",
       "      <th>feature6</th>\n",
       "      <th>feature7</th>\n",
       "      <th>feature8</th>\n",
       "      <th>feature9</th>\n",
       "      <th>feature10</th>\n",
       "      <th>...</th>\n",
       "      <th>feature13</th>\n",
       "      <th>feature14</th>\n",
       "      <th>feature15</th>\n",
       "      <th>feature16</th>\n",
       "      <th>feature17</th>\n",
       "      <th>feature18</th>\n",
       "      <th>feature19</th>\n",
       "      <th>feature20</th>\n",
       "      <th>feature21</th>\n",
       "      <th>target</th>\n",
       "    </tr>\n",
       "  </thead>\n",
       "  <tbody>\n",
       "    <tr>\n",
       "      <th>0</th>\n",
       "      <td>0.497449</td>\n",
       "      <td>0.722213</td>\n",
       "      <td>0.788587</td>\n",
       "      <td>0.395164</td>\n",
       "      <td>0.503541</td>\n",
       "      <td>0.301560</td>\n",
       "      <td>0.417738</td>\n",
       "      <td>0.805707</td>\n",
       "      <td>0.585739</td>\n",
       "      <td>0.538008</td>\n",
       "      <td>...</td>\n",
       "      <td>0.878240</td>\n",
       "      <td>0.477429</td>\n",
       "      <td>0.993930</td>\n",
       "      <td>0.944011</td>\n",
       "      <td>0.459007</td>\n",
       "      <td>0.838756</td>\n",
       "      <td>0.843865</td>\n",
       "      <td>0.543250</td>\n",
       "      <td>0.639446</td>\n",
       "      <td>0</td>\n",
       "    </tr>\n",
       "    <tr>\n",
       "      <th>1</th>\n",
       "      <td>0.314430</td>\n",
       "      <td>0.442740</td>\n",
       "      <td>0.753186</td>\n",
       "      <td>0.651303</td>\n",
       "      <td>0.833048</td>\n",
       "      <td>0.867722</td>\n",
       "      <td>0.662809</td>\n",
       "      <td>0.021921</td>\n",
       "      <td>0.568605</td>\n",
       "      <td>0.878457</td>\n",
       "      <td>...</td>\n",
       "      <td>0.974295</td>\n",
       "      <td>0.733731</td>\n",
       "      <td>0.917947</td>\n",
       "      <td>0.913460</td>\n",
       "      <td>0.696632</td>\n",
       "      <td>0.579482</td>\n",
       "      <td>0.085998</td>\n",
       "      <td>0.583732</td>\n",
       "      <td>0.216417</td>\n",
       "      <td>1</td>\n",
       "    </tr>\n",
       "    <tr>\n",
       "      <th>2</th>\n",
       "      <td>0.542753</td>\n",
       "      <td>0.749818</td>\n",
       "      <td>0.490253</td>\n",
       "      <td>0.387866</td>\n",
       "      <td>0.227817</td>\n",
       "      <td>0.763056</td>\n",
       "      <td>0.297321</td>\n",
       "      <td>0.443098</td>\n",
       "      <td>0.086525</td>\n",
       "      <td>0.627223</td>\n",
       "      <td>...</td>\n",
       "      <td>0.005009</td>\n",
       "      <td>0.857279</td>\n",
       "      <td>0.042383</td>\n",
       "      <td>0.508560</td>\n",
       "      <td>0.129168</td>\n",
       "      <td>0.949880</td>\n",
       "      <td>0.325948</td>\n",
       "      <td>0.462809</td>\n",
       "      <td>0.985990</td>\n",
       "      <td>1</td>\n",
       "    </tr>\n",
       "    <tr>\n",
       "      <th>3</th>\n",
       "      <td>0.789343</td>\n",
       "      <td>0.624176</td>\n",
       "      <td>0.766418</td>\n",
       "      <td>0.004252</td>\n",
       "      <td>0.321829</td>\n",
       "      <td>0.019919</td>\n",
       "      <td>0.554157</td>\n",
       "      <td>0.749399</td>\n",
       "      <td>0.462002</td>\n",
       "      <td>0.859457</td>\n",
       "      <td>...</td>\n",
       "      <td>0.298401</td>\n",
       "      <td>0.087682</td>\n",
       "      <td>0.206709</td>\n",
       "      <td>0.110735</td>\n",
       "      <td>0.344979</td>\n",
       "      <td>0.806925</td>\n",
       "      <td>0.775105</td>\n",
       "      <td>0.165180</td>\n",
       "      <td>0.664026</td>\n",
       "      <td>0</td>\n",
       "    </tr>\n",
       "    <tr>\n",
       "      <th>4</th>\n",
       "      <td>0.046066</td>\n",
       "      <td>0.815840</td>\n",
       "      <td>0.990431</td>\n",
       "      <td>0.890012</td>\n",
       "      <td>0.218559</td>\n",
       "      <td>0.865423</td>\n",
       "      <td>0.968102</td>\n",
       "      <td>0.032305</td>\n",
       "      <td>0.978947</td>\n",
       "      <td>0.515481</td>\n",
       "      <td>...</td>\n",
       "      <td>0.215636</td>\n",
       "      <td>0.927498</td>\n",
       "      <td>0.373143</td>\n",
       "      <td>0.469240</td>\n",
       "      <td>0.257145</td>\n",
       "      <td>0.900540</td>\n",
       "      <td>0.236400</td>\n",
       "      <td>0.450724</td>\n",
       "      <td>0.217831</td>\n",
       "      <td>1</td>\n",
       "    </tr>\n",
       "  </tbody>\n",
       "</table>\n",
       "<p>5 rows × 22 columns</p>\n",
       "</div>"
      ],
      "text/plain": [
       "   feature1  feature2  feature3  feature4  feature5  feature6  feature7  \\\n",
       "0  0.497449  0.722213  0.788587  0.395164  0.503541  0.301560  0.417738   \n",
       "1  0.314430  0.442740  0.753186  0.651303  0.833048  0.867722  0.662809   \n",
       "2  0.542753  0.749818  0.490253  0.387866  0.227817  0.763056  0.297321   \n",
       "3  0.789343  0.624176  0.766418  0.004252  0.321829  0.019919  0.554157   \n",
       "4  0.046066  0.815840  0.990431  0.890012  0.218559  0.865423  0.968102   \n",
       "\n",
       "   feature8  feature9  feature10   ...    feature13  feature14  feature15  \\\n",
       "0  0.805707  0.585739   0.538008   ...     0.878240   0.477429   0.993930   \n",
       "1  0.021921  0.568605   0.878457   ...     0.974295   0.733731   0.917947   \n",
       "2  0.443098  0.086525   0.627223   ...     0.005009   0.857279   0.042383   \n",
       "3  0.749399  0.462002   0.859457   ...     0.298401   0.087682   0.206709   \n",
       "4  0.032305  0.978947   0.515481   ...     0.215636   0.927498   0.373143   \n",
       "\n",
       "   feature16  feature17  feature18  feature19  feature20  feature21  target  \n",
       "0   0.944011   0.459007   0.838756   0.843865   0.543250   0.639446       0  \n",
       "1   0.913460   0.696632   0.579482   0.085998   0.583732   0.216417       1  \n",
       "2   0.508560   0.129168   0.949880   0.325948   0.462809   0.985990       1  \n",
       "3   0.110735   0.344979   0.806925   0.775105   0.165180   0.664026       0  \n",
       "4   0.469240   0.257145   0.900540   0.236400   0.450724   0.217831       1  \n",
       "\n",
       "[5 rows x 22 columns]"
      ]
     },
     "execution_count": 3,
     "metadata": {},
     "output_type": "execute_result"
    }
   ],
   "source": [
    "#Данные загружены, посмотрим на первые 5 элементов обучающей выборки. \n",
    "data.head()"
   ]
  },
  {
   "cell_type": "markdown",
   "metadata": {},
   "source": [
    "Прелестно. Как я уже говорил, нормализованные значения для каждого из 21 признаков. "
   ]
  },
  {
   "cell_type": "code",
   "execution_count": 4,
   "metadata": {
    "collapsed": false
   },
   "outputs": [
    {
     "data": {
      "text/html": [
       "<div>\n",
       "<table border=\"1\" class=\"dataframe\">\n",
       "  <thead>\n",
       "    <tr style=\"text-align: right;\">\n",
       "      <th></th>\n",
       "      <th>feature1</th>\n",
       "      <th>feature2</th>\n",
       "      <th>feature3</th>\n",
       "      <th>feature4</th>\n",
       "      <th>feature5</th>\n",
       "      <th>feature6</th>\n",
       "      <th>feature7</th>\n",
       "      <th>feature8</th>\n",
       "      <th>feature9</th>\n",
       "      <th>feature10</th>\n",
       "      <th>...</th>\n",
       "      <th>feature13</th>\n",
       "      <th>feature14</th>\n",
       "      <th>feature15</th>\n",
       "      <th>feature16</th>\n",
       "      <th>feature17</th>\n",
       "      <th>feature18</th>\n",
       "      <th>feature19</th>\n",
       "      <th>feature20</th>\n",
       "      <th>feature21</th>\n",
       "      <th>target</th>\n",
       "    </tr>\n",
       "  </thead>\n",
       "  <tbody>\n",
       "    <tr>\n",
       "      <th>count</th>\n",
       "      <td>96320.000000</td>\n",
       "      <td>96320.000000</td>\n",
       "      <td>96320.000000</td>\n",
       "      <td>96320.000000</td>\n",
       "      <td>96320.000000</td>\n",
       "      <td>96320.000000</td>\n",
       "      <td>96320.000000</td>\n",
       "      <td>96320.000000</td>\n",
       "      <td>96320.000000</td>\n",
       "      <td>96320.000000</td>\n",
       "      <td>...</td>\n",
       "      <td>96320.000000</td>\n",
       "      <td>96320.000000</td>\n",
       "      <td>96320.000000</td>\n",
       "      <td>96320.000000</td>\n",
       "      <td>96320.000000</td>\n",
       "      <td>96320.000000</td>\n",
       "      <td>96320.000000</td>\n",
       "      <td>96320.000000</td>\n",
       "      <td>96320.000000</td>\n",
       "      <td>96320.000000</td>\n",
       "    </tr>\n",
       "    <tr>\n",
       "      <th>mean</th>\n",
       "      <td>0.501308</td>\n",
       "      <td>0.503716</td>\n",
       "      <td>0.501427</td>\n",
       "      <td>0.486071</td>\n",
       "      <td>0.493400</td>\n",
       "      <td>0.493860</td>\n",
       "      <td>0.496498</td>\n",
       "      <td>0.503367</td>\n",
       "      <td>0.513762</td>\n",
       "      <td>0.498529</td>\n",
       "      <td>...</td>\n",
       "      <td>0.510348</td>\n",
       "      <td>0.503008</td>\n",
       "      <td>0.511927</td>\n",
       "      <td>0.506167</td>\n",
       "      <td>0.517150</td>\n",
       "      <td>0.505737</td>\n",
       "      <td>0.494409</td>\n",
       "      <td>0.499872</td>\n",
       "      <td>0.500035</td>\n",
       "      <td>0.505170</td>\n",
       "    </tr>\n",
       "    <tr>\n",
       "      <th>std</th>\n",
       "      <td>0.291842</td>\n",
       "      <td>0.292209</td>\n",
       "      <td>0.285400</td>\n",
       "      <td>0.300743</td>\n",
       "      <td>0.293895</td>\n",
       "      <td>0.297529</td>\n",
       "      <td>0.289816</td>\n",
       "      <td>0.285681</td>\n",
       "      <td>0.286873</td>\n",
       "      <td>0.282871</td>\n",
       "      <td>...</td>\n",
       "      <td>0.288563</td>\n",
       "      <td>0.290839</td>\n",
       "      <td>0.294987</td>\n",
       "      <td>0.288653</td>\n",
       "      <td>0.286636</td>\n",
       "      <td>0.293463</td>\n",
       "      <td>0.284507</td>\n",
       "      <td>0.290365</td>\n",
       "      <td>0.286790</td>\n",
       "      <td>0.499976</td>\n",
       "    </tr>\n",
       "    <tr>\n",
       "      <th>min</th>\n",
       "      <td>0.000000</td>\n",
       "      <td>0.000000</td>\n",
       "      <td>0.000140</td>\n",
       "      <td>0.000000</td>\n",
       "      <td>0.000001</td>\n",
       "      <td>0.000000</td>\n",
       "      <td>0.000003</td>\n",
       "      <td>0.000000</td>\n",
       "      <td>0.000000</td>\n",
       "      <td>0.000047</td>\n",
       "      <td>...</td>\n",
       "      <td>0.000172</td>\n",
       "      <td>0.000000</td>\n",
       "      <td>0.000000</td>\n",
       "      <td>0.000044</td>\n",
       "      <td>0.000000</td>\n",
       "      <td>0.000000</td>\n",
       "      <td>0.000000</td>\n",
       "      <td>0.000000</td>\n",
       "      <td>0.000000</td>\n",
       "      <td>0.000000</td>\n",
       "    </tr>\n",
       "    <tr>\n",
       "      <th>25%</th>\n",
       "      <td>0.249180</td>\n",
       "      <td>0.255837</td>\n",
       "      <td>0.257397</td>\n",
       "      <td>0.207111</td>\n",
       "      <td>0.228888</td>\n",
       "      <td>0.237490</td>\n",
       "      <td>0.245053</td>\n",
       "      <td>0.256400</td>\n",
       "      <td>0.268969</td>\n",
       "      <td>0.254813</td>\n",
       "      <td>...</td>\n",
       "      <td>0.267601</td>\n",
       "      <td>0.249391</td>\n",
       "      <td>0.259434</td>\n",
       "      <td>0.261992</td>\n",
       "      <td>0.278682</td>\n",
       "      <td>0.243173</td>\n",
       "      <td>0.258169</td>\n",
       "      <td>0.256621</td>\n",
       "      <td>0.246962</td>\n",
       "      <td>0.000000</td>\n",
       "    </tr>\n",
       "    <tr>\n",
       "      <th>50%</th>\n",
       "      <td>0.513009</td>\n",
       "      <td>0.500508</td>\n",
       "      <td>0.507568</td>\n",
       "      <td>0.468725</td>\n",
       "      <td>0.482481</td>\n",
       "      <td>0.491627</td>\n",
       "      <td>0.474248</td>\n",
       "      <td>0.508466</td>\n",
       "      <td>0.522486</td>\n",
       "      <td>0.502711</td>\n",
       "      <td>...</td>\n",
       "      <td>0.528477</td>\n",
       "      <td>0.498782</td>\n",
       "      <td>0.526806</td>\n",
       "      <td>0.497373</td>\n",
       "      <td>0.530667</td>\n",
       "      <td>0.501241</td>\n",
       "      <td>0.489472</td>\n",
       "      <td>0.493700</td>\n",
       "      <td>0.508131</td>\n",
       "      <td>1.000000</td>\n",
       "    </tr>\n",
       "    <tr>\n",
       "      <th>75%</th>\n",
       "      <td>0.750271</td>\n",
       "      <td>0.760975</td>\n",
       "      <td>0.752563</td>\n",
       "      <td>0.750496</td>\n",
       "      <td>0.764957</td>\n",
       "      <td>0.761369</td>\n",
       "      <td>0.751249</td>\n",
       "      <td>0.742915</td>\n",
       "      <td>0.754200</td>\n",
       "      <td>0.735110</td>\n",
       "      <td>...</td>\n",
       "      <td>0.761483</td>\n",
       "      <td>0.765621</td>\n",
       "      <td>0.776614</td>\n",
       "      <td>0.754841</td>\n",
       "      <td>0.777363</td>\n",
       "      <td>0.764578</td>\n",
       "      <td>0.739163</td>\n",
       "      <td>0.757143</td>\n",
       "      <td>0.749227</td>\n",
       "      <td>1.000000</td>\n",
       "    </tr>\n",
       "    <tr>\n",
       "      <th>max</th>\n",
       "      <td>1.000000</td>\n",
       "      <td>1.000000</td>\n",
       "      <td>1.000000</td>\n",
       "      <td>1.000000</td>\n",
       "      <td>1.000000</td>\n",
       "      <td>1.000000</td>\n",
       "      <td>1.000000</td>\n",
       "      <td>1.000000</td>\n",
       "      <td>1.000000</td>\n",
       "      <td>1.000000</td>\n",
       "      <td>...</td>\n",
       "      <td>1.000000</td>\n",
       "      <td>1.000000</td>\n",
       "      <td>1.000000</td>\n",
       "      <td>1.000000</td>\n",
       "      <td>1.000000</td>\n",
       "      <td>1.000000</td>\n",
       "      <td>1.000000</td>\n",
       "      <td>1.000000</td>\n",
       "      <td>1.000000</td>\n",
       "      <td>1.000000</td>\n",
       "    </tr>\n",
       "  </tbody>\n",
       "</table>\n",
       "<p>8 rows × 22 columns</p>\n",
       "</div>"
      ],
      "text/plain": [
       "           feature1      feature2      feature3      feature4      feature5  \\\n",
       "count  96320.000000  96320.000000  96320.000000  96320.000000  96320.000000   \n",
       "mean       0.501308      0.503716      0.501427      0.486071      0.493400   \n",
       "std        0.291842      0.292209      0.285400      0.300743      0.293895   \n",
       "min        0.000000      0.000000      0.000140      0.000000      0.000001   \n",
       "25%        0.249180      0.255837      0.257397      0.207111      0.228888   \n",
       "50%        0.513009      0.500508      0.507568      0.468725      0.482481   \n",
       "75%        0.750271      0.760975      0.752563      0.750496      0.764957   \n",
       "max        1.000000      1.000000      1.000000      1.000000      1.000000   \n",
       "\n",
       "           feature6      feature7      feature8      feature9     feature10  \\\n",
       "count  96320.000000  96320.000000  96320.000000  96320.000000  96320.000000   \n",
       "mean       0.493860      0.496498      0.503367      0.513762      0.498529   \n",
       "std        0.297529      0.289816      0.285681      0.286873      0.282871   \n",
       "min        0.000000      0.000003      0.000000      0.000000      0.000047   \n",
       "25%        0.237490      0.245053      0.256400      0.268969      0.254813   \n",
       "50%        0.491627      0.474248      0.508466      0.522486      0.502711   \n",
       "75%        0.761369      0.751249      0.742915      0.754200      0.735110   \n",
       "max        1.000000      1.000000      1.000000      1.000000      1.000000   \n",
       "\n",
       "           ...          feature13     feature14     feature15     feature16  \\\n",
       "count      ...       96320.000000  96320.000000  96320.000000  96320.000000   \n",
       "mean       ...           0.510348      0.503008      0.511927      0.506167   \n",
       "std        ...           0.288563      0.290839      0.294987      0.288653   \n",
       "min        ...           0.000172      0.000000      0.000000      0.000044   \n",
       "25%        ...           0.267601      0.249391      0.259434      0.261992   \n",
       "50%        ...           0.528477      0.498782      0.526806      0.497373   \n",
       "75%        ...           0.761483      0.765621      0.776614      0.754841   \n",
       "max        ...           1.000000      1.000000      1.000000      1.000000   \n",
       "\n",
       "          feature17     feature18     feature19     feature20     feature21  \\\n",
       "count  96320.000000  96320.000000  96320.000000  96320.000000  96320.000000   \n",
       "mean       0.517150      0.505737      0.494409      0.499872      0.500035   \n",
       "std        0.286636      0.293463      0.284507      0.290365      0.286790   \n",
       "min        0.000000      0.000000      0.000000      0.000000      0.000000   \n",
       "25%        0.278682      0.243173      0.258169      0.256621      0.246962   \n",
       "50%        0.530667      0.501241      0.489472      0.493700      0.508131   \n",
       "75%        0.777363      0.764578      0.739163      0.757143      0.749227   \n",
       "max        1.000000      1.000000      1.000000      1.000000      1.000000   \n",
       "\n",
       "             target  \n",
       "count  96320.000000  \n",
       "mean       0.505170  \n",
       "std        0.499976  \n",
       "min        0.000000  \n",
       "25%        0.000000  \n",
       "50%        1.000000  \n",
       "75%        1.000000  \n",
       "max        1.000000  \n",
       "\n",
       "[8 rows x 22 columns]"
      ]
     },
     "execution_count": 4,
     "metadata": {},
     "output_type": "execute_result"
    }
   ],
   "source": [
    "data.describe()"
   ]
  },
  {
   "cell_type": "markdown",
   "metadata": {},
   "source": [
    "Ничего не понятно. Ну и ладно."
   ]
  },
  {
   "cell_type": "code",
   "execution_count": 5,
   "metadata": {
    "collapsed": false
   },
   "outputs": [],
   "source": [
    "#Представим обучающие и тестовые данные в виде матрицы numpy. \n",
    "data = np.asmatrix(data)\n",
    "X_tournament = np.asmatrix(tournament_data)"
   ]
  },
  {
   "cell_type": "code",
   "execution_count": 6,
   "metadata": {
    "collapsed": false
   },
   "outputs": [],
   "source": [
    "#Необходимо отделить колонку с ответами от обучающей выборки. \n",
    "X = data[:, :-1]\n",
    "y = data[:, -1]"
   ]
  },
  {
   "cell_type": "code",
   "execution_count": 7,
   "metadata": {
    "collapsed": false
   },
   "outputs": [],
   "source": [
    "#Давайте категоризируем колонку с ответами. \n",
    "y = list(map(int, y))\n",
    "y = np_utils.to_categorical(y)"
   ]
  },
  {
   "cell_type": "markdown",
   "metadata": {},
   "source": [
    "Посмотрим, что получилось. "
   ]
  },
  {
   "cell_type": "code",
   "execution_count": 8,
   "metadata": {
    "collapsed": false
   },
   "outputs": [
    {
     "data": {
      "text/plain": [
       "matrix([[ 0.49744944,  0.72221282,  0.78858684, ...,  0.84386477,\n",
       "          0.54324979,  0.63944586],\n",
       "        [ 0.31442953,  0.4427403 ,  0.75318584, ...,  0.08599803,\n",
       "          0.58373233,  0.21641711],\n",
       "        [ 0.54275321,  0.74981753,  0.49025285, ...,  0.32594778,\n",
       "          0.46280914,  0.98598974],\n",
       "        ..., \n",
       "        [ 0.73803547,  0.29122605,  0.2493957 , ...,  0.5332935 ,\n",
       "          0.74179524,  0.63491802],\n",
       "        [ 0.0861853 ,  0.44291676,  0.63376541, ...,  0.11093683,\n",
       "          0.27755192,  0.68037441],\n",
       "        [ 0.29247344,  0.79481648,  0.79898224, ...,  0.71241487,\n",
       "          0.93436928,  0.58259562]])"
      ]
     },
     "execution_count": 8,
     "metadata": {},
     "output_type": "execute_result"
    }
   ],
   "source": [
    "X"
   ]
  },
  {
   "cell_type": "markdown",
   "metadata": {},
   "source": [
    "С обучающей выборкой все в порядке."
   ]
  },
  {
   "cell_type": "code",
   "execution_count": 9,
   "metadata": {
    "collapsed": false
   },
   "outputs": [
    {
     "data": {
      "text/plain": [
       "array([[ 1.,  0.],\n",
       "       [ 0.,  1.],\n",
       "       [ 0.,  1.],\n",
       "       ..., \n",
       "       [ 1.,  0.],\n",
       "       [ 1.,  0.],\n",
       "       [ 1.,  0.]])"
      ]
     },
     "execution_count": 9,
     "metadata": {},
     "output_type": "execute_result"
    }
   ],
   "source": [
    "y"
   ]
  },
  {
   "cell_type": "markdown",
   "metadata": {},
   "source": [
    "С ответами для обучающей выборки тоже все в порядке. \n",
    "Теперь делаем сеть. "
   ]
  },
  {
   "cell_type": "code",
   "execution_count": 10,
   "metadata": {
    "collapsed": false
   },
   "outputs": [],
   "source": [
    "#В нашей модели будет три слоя. В первых двух по 42 нейрона, в третьем 2. \n",
    "#В качестве борьбы с переобучением используем дропаут. \n",
    "model = Sequential()\n",
    "model.add(Dense(42, input_dim=21, init='uniform', activation='relu'))\n",
    "model.add(Dropout(0.2))\n",
    "model.add(BatchNormalization())\n",
    "model.add(Dense(42, init='uniform', activation='relu'))\n",
    "model.add(Dropout(0.2))\n",
    "model.add(BatchNormalization())\n",
    "model.add(Dense(2, init='uniform', activation='softmax'))\n",
    "#Сразу скомпилируем. \n",
    "model.compile(loss='binary_crossentropy',\n",
    "              optimizer=RMSprop(lr=0.001),\n",
    "              metrics=['accuracy'])"
   ]
  },
  {
   "cell_type": "code",
   "execution_count": 19,
   "metadata": {
    "collapsed": true
   },
   "outputs": [],
   "source": [
    "#Число эпох задаю через переменную для последующей визуализации.\n",
    "n = 40"
   ]
  },
  {
   "cell_type": "code",
   "execution_count": 20,
   "metadata": {
    "collapsed": false
   },
   "outputs": [
    {
     "name": "stdout",
     "output_type": "stream",
     "text": [
      "Train on 77056 samples, validate on 19264 samples\n",
      "Epoch 1/40\n",
      "76800/77056 [============================>.] - ETA: 0s - loss: 0.6923 - acc: 0.5175Epoch 00000: val_loss improved from inf to 0.69254, saving model to /home/ubuntu/weights.hdf5\n",
      "77056/77056 [==============================] - 1s - loss: 0.6923 - acc: 0.5175 - val_loss: 0.6925 - val_acc: 0.5209\n",
      "Epoch 2/40\n",
      "76700/77056 [============================>.] - ETA: 0s - loss: 0.6923 - acc: 0.5177Epoch 00001: val_loss improved from 0.69254 to 0.69211, saving model to /home/ubuntu/weights.hdf5\n",
      "77056/77056 [==============================] - 1s - loss: 0.6923 - acc: 0.5176 - val_loss: 0.6921 - val_acc: 0.5161\n",
      "Epoch 3/40\n",
      "76600/77056 [============================>.] - ETA: 0s - loss: 0.6924 - acc: 0.5174Epoch 00002: val_loss improved from 0.69211 to 0.69193, saving model to /home/ubuntu/weights.hdf5\n",
      "77056/77056 [==============================] - 1s - loss: 0.6924 - acc: 0.5174 - val_loss: 0.6919 - val_acc: 0.5215\n",
      "Epoch 4/40\n",
      "76700/77056 [============================>.] - ETA: 0s - loss: 0.6922 - acc: 0.5177Epoch 00003: val_loss did not improve\n",
      "77056/77056 [==============================] - 1s - loss: 0.6922 - acc: 0.5175 - val_loss: 0.6921 - val_acc: 0.5209\n",
      "Epoch 5/40\n",
      "76800/77056 [============================>.] - ETA: 0s - loss: 0.6921 - acc: 0.5192Epoch 00004: val_loss did not improve\n",
      "77056/77056 [==============================] - 1s - loss: 0.6921 - acc: 0.5192 - val_loss: 0.6927 - val_acc: 0.5210\n",
      "Epoch 6/40\n",
      "76600/77056 [============================>.] - ETA: 0s - loss: 0.6921 - acc: 0.5182Epoch 00005: val_loss did not improve\n",
      "77056/77056 [==============================] - 1s - loss: 0.6921 - acc: 0.5180 - val_loss: 0.6920 - val_acc: 0.5200\n",
      "Epoch 7/40\n",
      "77000/77056 [============================>.] - ETA: 0s - loss: 0.6921 - acc: 0.5176Epoch 00006: val_loss did not improve\n",
      "77056/77056 [==============================] - 1s - loss: 0.6921 - acc: 0.5175 - val_loss: 0.6920 - val_acc: 0.5221\n",
      "Epoch 8/40\n",
      "77000/77056 [============================>.] - ETA: 0s - loss: 0.6922 - acc: 0.5207Epoch 00007: val_loss did not improve\n",
      "77056/77056 [==============================] - 1s - loss: 0.6922 - acc: 0.5207 - val_loss: 0.6937 - val_acc: 0.5133\n",
      "Epoch 9/40\n",
      "76700/77056 [============================>.] - ETA: 0s - loss: 0.6919 - acc: 0.5192Epoch 00008: val_loss did not improve\n",
      "77056/77056 [==============================] - 1s - loss: 0.6919 - acc: 0.5191 - val_loss: 0.6963 - val_acc: 0.5209\n",
      "Epoch 10/40\n",
      "76700/77056 [============================>.] - ETA: 0s - loss: 0.6920 - acc: 0.5191Epoch 00009: val_loss did not improve\n",
      "77056/77056 [==============================] - 1s - loss: 0.6920 - acc: 0.5192 - val_loss: 0.6924 - val_acc: 0.5202\n",
      "Epoch 11/40\n",
      "76600/77056 [============================>.] - ETA: 0s - loss: 0.6919 - acc: 0.5238Epoch 00010: val_loss improved from 0.69193 to 0.69179, saving model to /home/ubuntu/weights.hdf5\n",
      "77056/77056 [==============================] - 1s - loss: 0.6919 - acc: 0.5238 - val_loss: 0.6918 - val_acc: 0.5238\n",
      "Epoch 12/40\n",
      "76600/77056 [============================>.] - ETA: 0s - loss: 0.6918 - acc: 0.5193Epoch 00011: val_loss did not improve\n",
      "77056/77056 [==============================] - 1s - loss: 0.6918 - acc: 0.5193 - val_loss: 0.6924 - val_acc: 0.5183\n",
      "Epoch 13/40\n",
      "76800/77056 [============================>.] - ETA: 0s - loss: 0.6919 - acc: 0.5215Epoch 00012: val_loss did not improve\n",
      "77056/77056 [==============================] - 1s - loss: 0.6919 - acc: 0.5216 - val_loss: 0.6926 - val_acc: 0.5154\n",
      "Epoch 14/40\n",
      "77000/77056 [============================>.] - ETA: 0s - loss: 0.6920 - acc: 0.5223Epoch 00013: val_loss did not improve\n",
      "77056/77056 [==============================] - 1s - loss: 0.6920 - acc: 0.5223 - val_loss: 0.6967 - val_acc: 0.5229\n",
      "Epoch 15/40\n",
      "76800/77056 [============================>.] - ETA: 0s - loss: 0.6917 - acc: 0.5219Epoch 00014: val_loss did not improve\n",
      "77056/77056 [==============================] - 1s - loss: 0.6917 - acc: 0.5219 - val_loss: 0.6929 - val_acc: 0.5151\n",
      "Epoch 16/40\n",
      "76900/77056 [============================>.] - ETA: 0s - loss: 0.6920 - acc: 0.5194Epoch 00015: val_loss did not improve\n",
      "77056/77056 [==============================] - 1s - loss: 0.6920 - acc: 0.5195 - val_loss: 0.6925 - val_acc: 0.5203\n",
      "Epoch 17/40\n",
      "77000/77056 [============================>.] - ETA: 0s - loss: 0.6917 - acc: 0.5220Epoch 00016: val_loss did not improve\n",
      "77056/77056 [==============================] - 1s - loss: 0.6917 - acc: 0.5221 - val_loss: 0.6922 - val_acc: 0.5211\n",
      "Epoch 18/40\n",
      "76700/77056 [============================>.] - ETA: 0s - loss: 0.6918 - acc: 0.5224Epoch 00017: val_loss did not improve\n",
      "77056/77056 [==============================] - 1s - loss: 0.6918 - acc: 0.5223 - val_loss: 0.6922 - val_acc: 0.5208\n",
      "Epoch 19/40\n",
      "76500/77056 [============================>.] - ETA: 0s - loss: 0.6917 - acc: 0.5207Epoch 00018: val_loss did not improve\n",
      "77056/77056 [==============================] - 1s - loss: 0.6917 - acc: 0.5207 - val_loss: 0.6924 - val_acc: 0.5240\n",
      "Epoch 20/40\n",
      "76500/77056 [============================>.] - ETA: 0s - loss: 0.6917 - acc: 0.5211Epoch 00019: val_loss did not improve\n",
      "77056/77056 [==============================] - 1s - loss: 0.6917 - acc: 0.5211 - val_loss: 0.6924 - val_acc: 0.5186\n",
      "Epoch 21/40\n",
      "76900/77056 [============================>.] - ETA: 0s - loss: 0.6915 - acc: 0.5221Epoch 00020: val_loss did not improve\n",
      "77056/77056 [==============================] - 1s - loss: 0.6915 - acc: 0.5221 - val_loss: 0.6922 - val_acc: 0.5151\n",
      "Epoch 22/40\n",
      "76600/77056 [============================>.] - ETA: 0s - loss: 0.6917 - acc: 0.5211Epoch 00021: val_loss did not improve\n",
      "77056/77056 [==============================] - 1s - loss: 0.6917 - acc: 0.5213 - val_loss: 0.6921 - val_acc: 0.5188\n",
      "Epoch 23/40\n",
      "76900/77056 [============================>.] - ETA: 0s - loss: 0.6917 - acc: 0.5215Epoch 00022: val_loss did not improve\n",
      "77056/77056 [==============================] - 1s - loss: 0.6917 - acc: 0.5217 - val_loss: 0.6932 - val_acc: 0.5203\n",
      "Epoch 24/40\n",
      "76500/77056 [============================>.] - ETA: 0s - loss: 0.6915 - acc: 0.5209Epoch 00023: val_loss did not improve\n",
      "77056/77056 [==============================] - 1s - loss: 0.6915 - acc: 0.5208 - val_loss: 0.6936 - val_acc: 0.5179\n",
      "Epoch 25/40\n",
      "76900/77056 [============================>.] - ETA: 0s - loss: 0.6915 - acc: 0.5211Epoch 00024: val_loss did not improve\n",
      "77056/77056 [==============================] - 1s - loss: 0.6915 - acc: 0.5211 - val_loss: 0.6921 - val_acc: 0.5199\n",
      "Epoch 26/40\n",
      "77000/77056 [============================>.] - ETA: 0s - loss: 0.6917 - acc: 0.5213Epoch 00025: val_loss did not improve\n",
      "77056/77056 [==============================] - 1s - loss: 0.6917 - acc: 0.5213 - val_loss: 0.6921 - val_acc: 0.5184\n",
      "Epoch 27/40\n",
      "76800/77056 [============================>.] - ETA: 0s - loss: 0.6917 - acc: 0.5223Epoch 00026: val_loss did not improve\n",
      "77056/77056 [==============================] - 1s - loss: 0.6917 - acc: 0.5222 - val_loss: 0.6921 - val_acc: 0.5156\n",
      "Epoch 28/40\n",
      "76600/77056 [============================>.] - ETA: 0s - loss: 0.6916 - acc: 0.5223Epoch 00027: val_loss did not improve\n",
      "77056/77056 [==============================] - 1s - loss: 0.6916 - acc: 0.5224 - val_loss: 0.6937 - val_acc: 0.5207\n",
      "Epoch 29/40\n",
      "76600/77056 [============================>.] - ETA: 0s - loss: 0.6916 - acc: 0.5231Epoch 00028: val_loss did not improve\n",
      "77056/77056 [==============================] - 1s - loss: 0.6915 - acc: 0.5232 - val_loss: 0.6929 - val_acc: 0.5176\n",
      "Epoch 30/40\n",
      "76500/77056 [============================>.] - ETA: 0s - loss: 0.6913 - acc: 0.5218Epoch 00029: val_loss did not improve\n",
      "77056/77056 [==============================] - 1s - loss: 0.6913 - acc: 0.5218 - val_loss: 0.6920 - val_acc: 0.5202\n",
      "Epoch 31/40\n",
      "76700/77056 [============================>.] - ETA: 0s - loss: 0.6914 - acc: 0.5225Epoch 00030: val_loss did not improve\n",
      "77056/77056 [==============================] - 1s - loss: 0.6914 - acc: 0.5227 - val_loss: 0.6935 - val_acc: 0.5203\n",
      "Epoch 32/40\n",
      "76600/77056 [============================>.] - ETA: 0s - loss: 0.6915 - acc: 0.5211Epoch 00031: val_loss did not improve\n",
      "77056/77056 [==============================] - 1s - loss: 0.6915 - acc: 0.5211 - val_loss: 0.6945 - val_acc: 0.5192\n",
      "Epoch 33/40\n",
      "77000/77056 [============================>.] - ETA: 0s - loss: 0.6914 - acc: 0.5223Epoch 00032: val_loss did not improve\n",
      "77056/77056 [==============================] - 1s - loss: 0.6914 - acc: 0.5223 - val_loss: 0.6927 - val_acc: 0.5161\n",
      "Epoch 34/40\n",
      "76600/77056 [============================>.] - ETA: 0s - loss: 0.6913 - acc: 0.5228Epoch 00033: val_loss did not improve\n",
      "77056/77056 [==============================] - 1s - loss: 0.6913 - acc: 0.5230 - val_loss: 0.6922 - val_acc: 0.5195\n",
      "Epoch 35/40\n",
      "76600/77056 [============================>.] - ETA: 0s - loss: 0.6912 - acc: 0.5238Epoch 00034: val_loss did not improve\n",
      "77056/77056 [==============================] - 1s - loss: 0.6913 - acc: 0.5238 - val_loss: 0.6931 - val_acc: 0.5174\n",
      "Epoch 36/40\n",
      "76600/77056 [============================>.] - ETA: 0s - loss: 0.6916 - acc: 0.5241Epoch 00035: val_loss did not improve\n",
      "77056/77056 [==============================] - 1s - loss: 0.6916 - acc: 0.5242 - val_loss: 0.6924 - val_acc: 0.5156\n",
      "Epoch 37/40\n",
      "76700/77056 [============================>.] - ETA: 0s - loss: 0.6913 - acc: 0.5241Epoch 00036: val_loss did not improve\n",
      "77056/77056 [==============================] - 1s - loss: 0.6913 - acc: 0.5240 - val_loss: 0.6925 - val_acc: 0.5239\n",
      "Epoch 38/40\n",
      "76700/77056 [============================>.] - ETA: 0s - loss: 0.6914 - acc: 0.5257Epoch 00037: val_loss did not improve\n",
      "77056/77056 [==============================] - 1s - loss: 0.6914 - acc: 0.5258 - val_loss: 0.6929 - val_acc: 0.5179\n",
      "Epoch 39/40\n",
      "76900/77056 [============================>.] - ETA: 0s - loss: 0.6913 - acc: 0.5255Epoch 00038: val_loss did not improve\n",
      "77056/77056 [==============================] - 1s - loss: 0.6913 - acc: 0.5254 - val_loss: 0.6927 - val_acc: 0.5169\n",
      "Epoch 40/40\n",
      "76600/77056 [============================>.] - ETA: 0s - loss: 0.6913 - acc: 0.5244Epoch 00039: val_loss did not improve\n",
      "77056/77056 [==============================] - 1s - loss: 0.6913 - acc: 0.5242 - val_loss: 0.6925 - val_acc: 0.5146\n"
     ]
    }
   ],
   "source": [
    "#Обучаем нашу сеть. Пятую часть выборки используем как валидацию. Лучшие результаты пишем в файл. \n",
    "history = model.fit(X, y,\n",
    "          batch_size=100, nb_epoch=n, verbose=1,\n",
    "          validation_split=0.2,\n",
    "          callbacks=[ModelCheckpoint(filepath=\\\n",
    "          \"/home/ubuntu/weights.hdf5\",\\\n",
    "          verbose=1, save_best_only=True)]\n",
    "          )"
   ]
  },
  {
   "cell_type": "code",
   "execution_count": 21,
   "metadata": {
    "collapsed": false
   },
   "outputs": [],
   "source": [
    "#Вытаскиваем историю обучения из модели. \n",
    "loss_history = history.history['loss']\n",
    "acc_history = history.history['acc']\n",
    "epochs = [(x + 1) for x in range(n)]"
   ]
  },
  {
   "cell_type": "code",
   "execution_count": 22,
   "metadata": {
    "collapsed": false
   },
   "outputs": [
    {
     "data": {
      "image/png": "[encoded data removed]",
      "text/plain": [
       "<matplotlib.figure.Figure at 0x7f6cd75759e8>"
      ]
     },
     "metadata": {},
     "output_type": "display_data"
    }
   ],
   "source": [
    "#Посмотрим, как она училась.\n",
    "%matplotlib inline\n",
    "ax = plt.subplot(211)\n",
    "ax.plot(epochs, loss_history, color='red')\n",
    "ax.set_xlabel('Epochs')\n",
    "ax.set_ylabel('Log loss')\n",
    "ax.set_title('Log loss per epoch')\n",
    "ax2 = plt.subplot(212)\n",
    "ax2.plot(epochs, acc_history, color='c')\n",
    "ax2.set_xlabel('Epochs')\n",
    "ax2.set_ylabel('Accuracy')\n",
    "ax2.set_title('Accuracy per epoch')\n",
    "plt.subplots_adjust(hspace=0.8)\n",
    "\n",
    "plt.show()"
   ]
  },
  {
   "cell_type": "markdown",
   "metadata": {},
   "source": [
    "На вид вроде бы ничего. Перекрестная энтропия снижается, точность растет. Говорит ли это о том, что мы получим хоть сколько-нибудь приемлемый результат? Очевидно, нет, потому что на валидации качество вовсе не росло. "
   ]
  },
  {
   "cell_type": "code",
   "execution_count": 23,
   "metadata": {
    "collapsed": false
   },
   "outputs": [],
   "source": [
    "#Берем сохраненные моделью самые лучшие веса. \n",
    "model.load_weights('/home/ubuntu/weights.hdf5')"
   ]
  },
  {
   "cell_type": "code",
   "execution_count": 24,
   "metadata": {
    "collapsed": false
   },
   "outputs": [],
   "source": [
    "#Получаем матрицу с предсказаниями. \n",
    "result = np.hstack((X_tournament[:, 0], model.predict_proba(X_tournament[:, 1:], verbose=0)))"
   ]
  },
  {
   "cell_type": "code",
   "execution_count": 25,
   "metadata": {
    "collapsed": false
   },
   "outputs": [
    {
     "data": {
      "text/plain": [
       "matrix([[  1.97780000e+04,   4.80625153e-01,   5.19374847e-01],\n",
       "        [  2.14650000e+04,   4.58532095e-01,   5.41467905e-01],\n",
       "        [  2.54930000e+04,   5.32102823e-01,   4.67897177e-01],\n",
       "        ..., \n",
       "        [  2.00740000e+04,   4.24620837e-01,   5.75379193e-01],\n",
       "        [  2.67870000e+04,   5.32578230e-01,   4.67421740e-01],\n",
       "        [  1.00620000e+04,   4.57302570e-01,   5.42697430e-01]])"
      ]
     },
     "execution_count": 25,
     "metadata": {},
     "output_type": "execute_result"
    }
   ],
   "source": [
    "result\n",
    "#Первая колонка -- индекс объекта, вторая и третья -- вероятности, что объект принадлежит одному из классов"
   ]
  },
  {
   "cell_type": "markdown",
   "metadata": {},
   "source": [
    "Осталось записать результат в файл. "
   ]
  },
  {
   "cell_type": "code",
   "execution_count": 26,
   "metadata": {
    "collapsed": false
   },
   "outputs": [],
   "source": [
    "columns = ['t_id', 'probability']\n",
    "dtype = [('t_id','int'), ('probability','float')]\n",
    "values = result[:, [0, 1]]\n",
    "df = pd.DataFrame(values, columns = columns)\n",
    "df[['t_id']] = df[['t_id']].astype(int)\n",
    "df.to_csv('lol.csv', index = False)"
   ]
  },
  {
   "cell_type": "markdown",
   "metadata": {
    "collapsed": true
   },
   "source": [
    "Загружаем предсказание на сайт и убеждаемся, что модель совершенно неэффективна, а полученный нами результат никуда не годится. Log loss равен 0.69097, все равно как при случайном угадывании. В принципе, можно было потратить пять минут на случайный лес или градиентный бустинг и получить то же самое. \n",
    "Лучшие результаты модель дает при наименьшем количестве эпох -- пока она еще не сумела найти какую-то псевдозакономерность и подогнаться под нее. \n",
    "Судя по всему, лидеры рейтинга с результатом 0.64 знают о признаках то, чего не знаем мы. "
   ]
  }
 ],
 "metadata": {
  "anaconda-cloud": {},
  "kernelspec": {
   "display_name": "Python [Root]",
   "language": "python",
   "name": "Python [Root]"
  },
  "language_info": {
   "codemirror_mode": {
    "name": "ipython",
    "version": 3
   },
   "file_extension": ".py",
   "mimetype": "text/x-python",
   "name": "python",
   "nbconvert_exporter": "python",
   "pygments_lexer": "ipython3",
   "version": "3.5.1"
  }
 },
 "nbformat": 4,
 "nbformat_minor": 0
}
